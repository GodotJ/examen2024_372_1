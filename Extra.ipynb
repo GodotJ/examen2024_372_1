{
 "cells": [
  {
   "cell_type": "code",
   "execution_count": 1,
   "id": "29b48898-18f2-4eb1-977d-b030b5dfc8df",
   "metadata": {},
   "outputs": [
    {
     "name": "stdout",
     "output_type": "stream",
     "text": [
      "{\n",
      "  \"userId\": 1,\n",
      "  \"id\": 1,\n",
      "  \"title\": \"delectus aut autem\",\n",
      "  \"completed\": false\n",
      "}\n"
     ]
    }
   ],
   "source": [
    "import requests\n",
    "x = requests.get('https://jsonplaceholder.typicode.com/todos/1')\n",
    "print(x.text)\n"
   ]
  },
  {
   "cell_type": "code",
   "execution_count": null,
   "id": "cb98a106-2525-45ca-9c2d-32281e59e25d",
   "metadata": {},
   "outputs": [],
   "source": []
  }
 ],
 "metadata": {
  "kernelspec": {
   "display_name": "Python 3 (ipykernel)",
   "language": "python",
   "name": "python3"
  },
  "language_info": {
   "codemirror_mode": {
    "name": "ipython",
    "version": 3
   },
   "file_extension": ".py",
   "mimetype": "text/x-python",
   "name": "python",
   "nbconvert_exporter": "python",
   "pygments_lexer": "ipython3",
   "version": "3.11.4"
  }
 },
 "nbformat": 4,
 "nbformat_minor": 5
}
